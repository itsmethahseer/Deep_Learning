{
 "cells": [
  {
   "cell_type": "markdown",
   "id": "6951522f",
   "metadata": {},
   "source": [
    "#### Predicting the next word"
   ]
  },
  {
   "cell_type": "code",
   "execution_count": 25,
   "id": "6c50ae18",
   "metadata": {},
   "outputs": [],
   "source": [
    "from numpy import array\n",
    "from keras.preprocessing.text import Tokenizer\n",
    "from keras.utils import to_categorical\n",
    "from keras.models import Sequential\n",
    "from keras.layers import Dense\n",
    "from keras.layers import LSTM\n",
    "from keras.layers import Embedding\n",
    "import numpy as np"
   ]
  },
  {
   "cell_type": "code",
   "execution_count": 2,
   "id": "1366c03c",
   "metadata": {},
   "outputs": [],
   "source": [
    "#training text\n",
    "data = \"\"\" Piford Technologies is a leading Software Development Company\\n\n",
    "Piford Technologies provide trainings to working professionals and students\\n\n",
    "We are product based and service based company\\n\n",
    "we have one of our office in IT Park, Mohali\\n \"\"\""
   ]
  },
  {
   "cell_type": "code",
   "execution_count": 3,
   "id": "f96882b0",
   "metadata": {
    "scrolled": true
   },
   "outputs": [
    {
     "data": {
      "text/plain": [
       "[1,\n",
       " 2,\n",
       " 7,\n",
       " 8,\n",
       " 9,\n",
       " 10,\n",
       " 11,\n",
       " 3,\n",
       " 1,\n",
       " 2,\n",
       " 12,\n",
       " 13,\n",
       " 14,\n",
       " 15,\n",
       " 16,\n",
       " 4,\n",
       " 17,\n",
       " 5,\n",
       " 18,\n",
       " 19,\n",
       " 6,\n",
       " 4,\n",
       " 20,\n",
       " 6,\n",
       " 3,\n",
       " 5,\n",
       " 21,\n",
       " 22,\n",
       " 23,\n",
       " 24,\n",
       " 25,\n",
       " 26,\n",
       " 27,\n",
       " 28,\n",
       " 29]"
      ]
     },
     "execution_count": 3,
     "metadata": {},
     "output_type": "execute_result"
    }
   ],
   "source": [
    "tokenizer = Tokenizer()\n",
    "tokenizer.fit_on_texts([data])\n",
    "encoded_data= tokenizer.texts_to_sequences([data])[0]\n",
    "encoded_data"
   ]
  },
  {
   "cell_type": "markdown",
   "id": "15d54b2c",
   "metadata": {},
   "source": [
    "Now i converted the words into vector of numbers(integers)"
   ]
  },
  {
   "cell_type": "code",
   "execution_count": 4,
   "id": "1eb3a900",
   "metadata": {},
   "outputs": [
    {
     "data": {
      "text/plain": [
       "30"
      ]
     },
     "execution_count": 4,
     "metadata": {},
     "output_type": "execute_result"
    }
   ],
   "source": [
    "#Now iam going to see my vector size\n",
    "vocab_size = len(tokenizer.word_index)+1\n",
    "vocab_size"
   ]
  },
  {
   "cell_type": "markdown",
   "id": "f9e095fa",
   "metadata": {},
   "source": [
    "Now iam going to create sequence of words to train our model , one for input and other for output."
   ]
  },
  {
   "cell_type": "code",
   "execution_count": 5,
   "id": "325769b1",
   "metadata": {},
   "outputs": [
    {
     "name": "stdout",
     "output_type": "stream",
     "text": [
      "total sequences 34\n"
     ]
    }
   ],
   "source": [
    "sequences = list()\n",
    "for i in range(1,len(encoded_data)):\n",
    "    sequence = encoded_data[i-1:i+1]\n",
    "    sequences.append(sequence)\n",
    "print(\"total sequences\",len(sequences))"
   ]
  },
  {
   "cell_type": "markdown",
   "id": "0f4510f7",
   "metadata": {},
   "source": [
    "This means we have 34 input and output for training our model now."
   ]
  },
  {
   "cell_type": "code",
   "execution_count": 6,
   "id": "7ee5b7e1",
   "metadata": {},
   "outputs": [
    {
     "data": {
      "text/plain": [
       "[[1, 2], [2, 7], [7, 8], [8, 9], [9, 10]]"
      ]
     },
     "execution_count": 6,
     "metadata": {},
     "output_type": "execute_result"
    }
   ],
   "source": [
    "sequences[:5]"
   ]
  },
  {
   "cell_type": "markdown",
   "id": "489a5241",
   "metadata": {},
   "source": [
    "Now iam going to split the sequences into X and y."
   ]
  },
  {
   "cell_type": "code",
   "execution_count": 8,
   "id": "764a2306",
   "metadata": {},
   "outputs": [],
   "source": [
    "sequences = array(sequences)\n",
    "X,y = sequences[:,0],sequences[:,1]"
   ]
  },
  {
   "cell_type": "code",
   "execution_count": 9,
   "id": "9231b945",
   "metadata": {},
   "outputs": [
    {
     "data": {
      "text/plain": [
       "array([1, 2, 7, 8, 9])"
      ]
     },
     "execution_count": 9,
     "metadata": {},
     "output_type": "execute_result"
    }
   ],
   "source": [
    "X[:5]"
   ]
  },
  {
   "cell_type": "code",
   "execution_count": 10,
   "id": "0a9d4d31",
   "metadata": {},
   "outputs": [
    {
     "data": {
      "text/plain": [
       "array([ 2,  7,  8,  9, 10])"
      ]
     },
     "execution_count": 10,
     "metadata": {},
     "output_type": "execute_result"
    }
   ],
   "source": [
    "y[:5]"
   ]
  },
  {
   "cell_type": "markdown",
   "id": "5c59cb53",
   "metadata": {},
   "source": [
    "Now iam going to convert the integers of vector into binary values ,by using to_categorical method"
   ]
  },
  {
   "cell_type": "code",
   "execution_count": 11,
   "id": "08113004",
   "metadata": {},
   "outputs": [],
   "source": [
    "y = to_categorical(y, num_classes=vocab_size)"
   ]
  },
  {
   "cell_type": "code",
   "execution_count": 12,
   "id": "897a50f0",
   "metadata": {
    "scrolled": true
   },
   "outputs": [
    {
     "data": {
      "text/plain": [
       "array([[0., 0., 1., 0., 0., 0., 0., 0., 0., 0., 0., 0., 0., 0., 0., 0.,\n",
       "        0., 0., 0., 0., 0., 0., 0., 0., 0., 0., 0., 0., 0., 0.],\n",
       "       [0., 0., 0., 0., 0., 0., 0., 1., 0., 0., 0., 0., 0., 0., 0., 0.,\n",
       "        0., 0., 0., 0., 0., 0., 0., 0., 0., 0., 0., 0., 0., 0.],\n",
       "       [0., 0., 0., 0., 0., 0., 0., 0., 1., 0., 0., 0., 0., 0., 0., 0.,\n",
       "        0., 0., 0., 0., 0., 0., 0., 0., 0., 0., 0., 0., 0., 0.],\n",
       "       [0., 0., 0., 0., 0., 0., 0., 0., 0., 1., 0., 0., 0., 0., 0., 0.,\n",
       "        0., 0., 0., 0., 0., 0., 0., 0., 0., 0., 0., 0., 0., 0.],\n",
       "       [0., 0., 0., 0., 0., 0., 0., 0., 0., 0., 1., 0., 0., 0., 0., 0.,\n",
       "        0., 0., 0., 0., 0., 0., 0., 0., 0., 0., 0., 0., 0., 0.]],\n",
       "      dtype=float32)"
      ]
     },
     "execution_count": 12,
     "metadata": {},
     "output_type": "execute_result"
    }
   ],
   "source": [
    "y[:5]"
   ]
  },
  {
   "cell_type": "code",
   "execution_count": 13,
   "id": "002bc66a",
   "metadata": {},
   "outputs": [
    {
     "name": "stdout",
     "output_type": "stream",
     "text": [
      "Model: \"sequential\"\n",
      "_________________________________________________________________\n",
      " Layer (type)                Output Shape              Param #   \n",
      "=================================================================\n",
      " embedding (Embedding)       (None, 1, 10)             300       \n",
      "                                                                 \n",
      " lstm (LSTM)                 (None, 50)                12200     \n",
      "                                                                 \n",
      " dense (Dense)               (None, 30)                1530      \n",
      "                                                                 \n",
      "=================================================================\n",
      "Total params: 14,030\n",
      "Trainable params: 14,030\n",
      "Non-trainable params: 0\n",
      "_________________________________________________________________\n",
      "None\n"
     ]
    }
   ],
   "source": [
    "model = Sequential()\n",
    "model.add(Embedding(vocab_size, 10, input_length=1))\n",
    "model.add(LSTM(50))\n",
    "model.add(Dense(vocab_size, activation='softmax'))\n",
    "print(model.summary())"
   ]
  },
  {
   "cell_type": "markdown",
   "id": "64be20ea",
   "metadata": {},
   "source": [
    "The embedding layer will convert the input words into vector of 10 dimensions."
   ]
  },
  {
   "cell_type": "code",
   "execution_count": 14,
   "id": "964233c1",
   "metadata": {},
   "outputs": [],
   "source": [
    "model.compile(loss='categorical_crossentropy', optimizer='adam', metrics=['accuracy'])"
   ]
  },
  {
   "cell_type": "code",
   "execution_count": 15,
   "id": "da906322",
   "metadata": {},
   "outputs": [
    {
     "name": "stdout",
     "output_type": "stream",
     "text": [
      "Epoch 1/100\n",
      "2/2 [==============================] - 2s 11ms/step - loss: 3.4017 - accuracy: 0.0294\n",
      "Epoch 2/100\n",
      "2/2 [==============================] - 0s 5ms/step - loss: 3.4006 - accuracy: 0.0000e+00\n",
      "Epoch 3/100\n",
      "2/2 [==============================] - 0s 5ms/step - loss: 3.3999 - accuracy: 0.0294\n",
      "Epoch 4/100\n",
      "2/2 [==============================] - 0s 7ms/step - loss: 3.3992 - accuracy: 0.0294\n",
      "Epoch 5/100\n",
      "2/2 [==============================] - 0s 6ms/step - loss: 3.3986 - accuracy: 0.0294\n",
      "Epoch 6/100\n",
      "2/2 [==============================] - 0s 6ms/step - loss: 3.3981 - accuracy: 0.0294\n",
      "Epoch 7/100\n",
      "2/2 [==============================] - 0s 5ms/step - loss: 3.3974 - accuracy: 0.0294\n",
      "Epoch 8/100\n",
      "2/2 [==============================] - 0s 8ms/step - loss: 3.3969 - accuracy: 0.0294\n",
      "Epoch 9/100\n",
      "2/2 [==============================] - 0s 7ms/step - loss: 3.3963 - accuracy: 0.0294\n",
      "Epoch 10/100\n",
      "2/2 [==============================] - 0s 5ms/step - loss: 3.3958 - accuracy: 0.0294\n",
      "Epoch 11/100\n",
      "2/2 [==============================] - 0s 5ms/step - loss: 3.3952 - accuracy: 0.0294\n",
      "Epoch 12/100\n",
      "2/2 [==============================] - 0s 5ms/step - loss: 3.3946 - accuracy: 0.0294\n",
      "Epoch 13/100\n",
      "2/2 [==============================] - 0s 6ms/step - loss: 3.3940 - accuracy: 0.0294\n",
      "Epoch 14/100\n",
      "2/2 [==============================] - 0s 3ms/step - loss: 3.3934 - accuracy: 0.0294\n",
      "Epoch 15/100\n",
      "2/2 [==============================] - 0s 7ms/step - loss: 3.3927 - accuracy: 0.0294\n",
      "Epoch 16/100\n",
      "2/2 [==============================] - 0s 6ms/step - loss: 3.3922 - accuracy: 0.0882\n",
      "Epoch 17/100\n",
      "2/2 [==============================] - 0s 5ms/step - loss: 3.3916 - accuracy: 0.0882\n",
      "Epoch 18/100\n",
      "2/2 [==============================] - 0s 6ms/step - loss: 3.3909 - accuracy: 0.1176\n",
      "Epoch 19/100\n",
      "2/2 [==============================] - 0s 6ms/step - loss: 3.3903 - accuracy: 0.0882\n",
      "Epoch 20/100\n",
      "2/2 [==============================] - 0s 5ms/step - loss: 3.3897 - accuracy: 0.0882\n",
      "Epoch 21/100\n",
      "2/2 [==============================] - 0s 3ms/step - loss: 3.3891 - accuracy: 0.0882\n",
      "Epoch 22/100\n",
      "2/2 [==============================] - 0s 7ms/step - loss: 3.3885 - accuracy: 0.0882\n",
      "Epoch 23/100\n",
      "2/2 [==============================] - 0s 7ms/step - loss: 3.3878 - accuracy: 0.0882\n",
      "Epoch 24/100\n",
      "2/2 [==============================] - 0s 5ms/step - loss: 3.3871 - accuracy: 0.0882\n",
      "Epoch 25/100\n",
      "2/2 [==============================] - 0s 4ms/step - loss: 3.3864 - accuracy: 0.1176\n",
      "Epoch 26/100\n",
      "2/2 [==============================] - 0s 8ms/step - loss: 3.3857 - accuracy: 0.1176\n",
      "Epoch 27/100\n",
      "2/2 [==============================] - 0s 6ms/step - loss: 3.3849 - accuracy: 0.1471\n",
      "Epoch 28/100\n",
      "2/2 [==============================] - 0s 6ms/step - loss: 3.3842 - accuracy: 0.1765\n",
      "Epoch 29/100\n",
      "2/2 [==============================] - 0s 4ms/step - loss: 3.3834 - accuracy: 0.2059\n",
      "Epoch 30/100\n",
      "2/2 [==============================] - 0s 6ms/step - loss: 3.3827 - accuracy: 0.2353\n",
      "Epoch 31/100\n",
      "2/2 [==============================] - 0s 6ms/step - loss: 3.3819 - accuracy: 0.2353\n",
      "Epoch 32/100\n",
      "2/2 [==============================] - 0s 6ms/step - loss: 3.3811 - accuracy: 0.2353\n",
      "Epoch 33/100\n",
      "2/2 [==============================] - 0s 4ms/step - loss: 3.3802 - accuracy: 0.2353\n",
      "Epoch 34/100\n",
      "2/2 [==============================] - 0s 7ms/step - loss: 3.3793 - accuracy: 0.2647\n",
      "Epoch 35/100\n",
      "2/2 [==============================] - 0s 5ms/step - loss: 3.3784 - accuracy: 0.2647\n",
      "Epoch 36/100\n",
      "2/2 [==============================] - 0s 7ms/step - loss: 3.3774 - accuracy: 0.2647\n",
      "Epoch 37/100\n",
      "2/2 [==============================] - 0s 5ms/step - loss: 3.3765 - accuracy: 0.2941\n",
      "Epoch 38/100\n",
      "2/2 [==============================] - 0s 6ms/step - loss: 3.3755 - accuracy: 0.2941\n",
      "Epoch 39/100\n",
      "2/2 [==============================] - 0s 6ms/step - loss: 3.3744 - accuracy: 0.2941\n",
      "Epoch 40/100\n",
      "2/2 [==============================] - 0s 4ms/step - loss: 3.3732 - accuracy: 0.2941\n",
      "Epoch 41/100\n",
      "2/2 [==============================] - 0s 6ms/step - loss: 3.3721 - accuracy: 0.2941\n",
      "Epoch 42/100\n",
      "2/2 [==============================] - 0s 5ms/step - loss: 3.3709 - accuracy: 0.2647\n",
      "Epoch 43/100\n",
      "2/2 [==============================] - 0s 6ms/step - loss: 3.3697 - accuracy: 0.2941\n",
      "Epoch 44/100\n",
      "2/2 [==============================] - 0s 5ms/step - loss: 3.3685 - accuracy: 0.2941\n",
      "Epoch 45/100\n",
      "2/2 [==============================] - 0s 5ms/step - loss: 3.3672 - accuracy: 0.2941\n",
      "Epoch 46/100\n",
      "2/2 [==============================] - 0s 6ms/step - loss: 3.3659 - accuracy: 0.2941\n",
      "Epoch 47/100\n",
      "2/2 [==============================] - 0s 6ms/step - loss: 3.3646 - accuracy: 0.2941\n",
      "Epoch 48/100\n",
      "2/2 [==============================] - 0s 4ms/step - loss: 3.3633 - accuracy: 0.2941\n",
      "Epoch 49/100\n",
      "2/2 [==============================] - 0s 6ms/step - loss: 3.3619 - accuracy: 0.2353\n",
      "Epoch 50/100\n",
      "2/2 [==============================] - 0s 5ms/step - loss: 3.3605 - accuracy: 0.2353\n",
      "Epoch 51/100\n",
      "2/2 [==============================] - 0s 6ms/step - loss: 3.3590 - accuracy: 0.2353\n",
      "Epoch 52/100\n",
      "2/2 [==============================] - 0s 7ms/step - loss: 3.3576 - accuracy: 0.2647\n",
      "Epoch 53/100\n",
      "2/2 [==============================] - 0s 15ms/step - loss: 3.3561 - accuracy: 0.2647\n",
      "Epoch 54/100\n",
      "2/2 [==============================] - 0s 8ms/step - loss: 3.3546 - accuracy: 0.2647\n",
      "Epoch 55/100\n",
      "2/2 [==============================] - 0s 25ms/step - loss: 3.3529 - accuracy: 0.2647\n",
      "Epoch 56/100\n",
      "2/2 [==============================] - 0s 11ms/step - loss: 3.3511 - accuracy: 0.2647\n",
      "Epoch 57/100\n",
      "2/2 [==============================] - 0s 7ms/step - loss: 3.3493 - accuracy: 0.2647\n",
      "Epoch 58/100\n",
      "2/2 [==============================] - 0s 6ms/step - loss: 3.3471 - accuracy: 0.2647\n",
      "Epoch 59/100\n",
      "2/2 [==============================] - 0s 6ms/step - loss: 3.3452 - accuracy: 0.2647\n",
      "Epoch 60/100\n",
      "2/2 [==============================] - 0s 7ms/step - loss: 3.3430 - accuracy: 0.2353\n",
      "Epoch 61/100\n",
      "2/2 [==============================] - 0s 4ms/step - loss: 3.3409 - accuracy: 0.2353\n",
      "Epoch 62/100\n",
      "2/2 [==============================] - 0s 5ms/step - loss: 3.3386 - accuracy: 0.2059\n",
      "Epoch 63/100\n",
      "2/2 [==============================] - 0s 7ms/step - loss: 3.3363 - accuracy: 0.2059\n",
      "Epoch 64/100\n",
      "2/2 [==============================] - 0s 5ms/step - loss: 3.3340 - accuracy: 0.2059\n",
      "Epoch 65/100\n",
      "2/2 [==============================] - 0s 5ms/step - loss: 3.3316 - accuracy: 0.2059\n",
      "Epoch 66/100\n",
      "2/2 [==============================] - 0s 7ms/step - loss: 3.3292 - accuracy: 0.2353\n",
      "Epoch 67/100\n",
      "2/2 [==============================] - 0s 7ms/step - loss: 3.3266 - accuracy: 0.2353\n",
      "Epoch 68/100\n",
      "2/2 [==============================] - 0s 6ms/step - loss: 3.3241 - accuracy: 0.2647\n",
      "Epoch 69/100\n",
      "2/2 [==============================] - 0s 6ms/step - loss: 3.3215 - accuracy: 0.2647\n",
      "Epoch 70/100\n",
      "2/2 [==============================] - 0s 7ms/step - loss: 3.3189 - accuracy: 0.2647\n",
      "Epoch 71/100\n",
      "2/2 [==============================] - 0s 7ms/step - loss: 3.3162 - accuracy: 0.2647\n",
      "Epoch 72/100\n",
      "2/2 [==============================] - 0s 4ms/step - loss: 3.3135 - accuracy: 0.2647\n",
      "Epoch 73/100\n",
      "2/2 [==============================] - 0s 6ms/step - loss: 3.3106 - accuracy: 0.2647\n",
      "Epoch 74/100\n",
      "2/2 [==============================] - 0s 8ms/step - loss: 3.3077 - accuracy: 0.2647\n",
      "Epoch 75/100\n",
      "2/2 [==============================] - 0s 4ms/step - loss: 3.3048 - accuracy: 0.2647\n",
      "Epoch 76/100\n",
      "2/2 [==============================] - 0s 4ms/step - loss: 3.3017 - accuracy: 0.2647\n",
      "Epoch 77/100\n",
      "2/2 [==============================] - 0s 6ms/step - loss: 3.2985 - accuracy: 0.2647\n",
      "Epoch 78/100\n",
      "2/2 [==============================] - 0s 5ms/step - loss: 3.2951 - accuracy: 0.2647\n",
      "Epoch 79/100\n",
      "2/2 [==============================] - 0s 5ms/step - loss: 3.2915 - accuracy: 0.2647\n",
      "Epoch 80/100\n",
      "2/2 [==============================] - 0s 7ms/step - loss: 3.2876 - accuracy: 0.2647\n",
      "Epoch 81/100\n",
      "2/2 [==============================] - 0s 5ms/step - loss: 3.2835 - accuracy: 0.2647\n",
      "Epoch 82/100\n",
      "2/2 [==============================] - 0s 6ms/step - loss: 3.2794 - accuracy: 0.2647\n",
      "Epoch 83/100\n",
      "2/2 [==============================] - 0s 7ms/step - loss: 3.2749 - accuracy: 0.2647\n",
      "Epoch 84/100\n"
     ]
    },
    {
     "name": "stdout",
     "output_type": "stream",
     "text": [
      "2/2 [==============================] - 0s 4ms/step - loss: 3.2707 - accuracy: 0.2647\n",
      "Epoch 85/100\n",
      "2/2 [==============================] - 0s 5ms/step - loss: 3.2662 - accuracy: 0.2647\n",
      "Epoch 86/100\n",
      "2/2 [==============================] - 0s 6ms/step - loss: 3.2617 - accuracy: 0.2647\n",
      "Epoch 87/100\n",
      "2/2 [==============================] - 0s 4ms/step - loss: 3.2572 - accuracy: 0.2647\n",
      "Epoch 88/100\n",
      "2/2 [==============================] - 0s 5ms/step - loss: 3.2525 - accuracy: 0.2647\n",
      "Epoch 89/100\n",
      "2/2 [==============================] - 0s 6ms/step - loss: 3.2476 - accuracy: 0.2647\n",
      "Epoch 90/100\n",
      "2/2 [==============================] - 0s 4ms/step - loss: 3.2426 - accuracy: 0.2647\n",
      "Epoch 91/100\n",
      "2/2 [==============================] - 0s 4ms/step - loss: 3.2375 - accuracy: 0.2647\n",
      "Epoch 92/100\n",
      "2/2 [==============================] - 0s 7ms/step - loss: 3.2324 - accuracy: 0.2647\n",
      "Epoch 93/100\n",
      "2/2 [==============================] - 0s 5ms/step - loss: 3.2269 - accuracy: 0.2647\n",
      "Epoch 94/100\n",
      "2/2 [==============================] - 0s 5ms/step - loss: 3.2214 - accuracy: 0.2941\n",
      "Epoch 95/100\n",
      "2/2 [==============================] - 0s 6ms/step - loss: 3.2157 - accuracy: 0.2941\n",
      "Epoch 96/100\n",
      "2/2 [==============================] - 0s 4ms/step - loss: 3.2098 - accuracy: 0.2647\n",
      "Epoch 97/100\n",
      "2/2 [==============================] - 0s 6ms/step - loss: 3.2039 - accuracy: 0.2647\n",
      "Epoch 98/100\n",
      "2/2 [==============================] - 0s 7ms/step - loss: 3.1976 - accuracy: 0.2647\n",
      "Epoch 99/100\n",
      "2/2 [==============================] - 0s 4ms/step - loss: 3.1912 - accuracy: 0.2647\n",
      "Epoch 100/100\n",
      "2/2 [==============================] - 0s 6ms/step - loss: 3.1845 - accuracy: 0.2647\n"
     ]
    },
    {
     "data": {
      "text/plain": [
       "<keras.callbacks.History at 0x1a90af537f0>"
      ]
     },
     "execution_count": 15,
     "metadata": {},
     "output_type": "execute_result"
    }
   ],
   "source": [
    "model.fit(X, y, epochs=100)"
   ]
  },
  {
   "cell_type": "code",
   "execution_count": null,
   "id": "f186d5f4",
   "metadata": {},
   "outputs": [],
   "source": []
  },
  {
   "cell_type": "code",
   "execution_count": 51,
   "id": "578d2233",
   "metadata": {},
   "outputs": [],
   "source": [
    "# generate a sequence from the model\n",
    "def generate_seq(model, tokenizer, enter_text, n_pred):\n",
    "    in_text, result = enter_text, enter_text  # \n",
    "\n",
    "    # Generate a fixed number of words.\n",
    "    for _ in range(n_pred):\n",
    "\n",
    "        # Encode the text as integer.\n",
    "        encoded = tokenizer.texts_to_sequences([in_text])[0]\n",
    "        encoded = np.array(encoded)\n",
    "\n",
    "        # Predict a word in the vocabulary.\n",
    "        yhat = model.predict(encoded)\n",
    "\n",
    "        # Get the index of the maximum element in yhat.\n",
    "        max_index = np.argmax(yhat)\n",
    "\n",
    "        # Get the word at the max index.\n",
    "        out_word = tokenizer.index_word[max_index]\n",
    "\n",
    "        # Append to input.\n",
    "        in_text, result = out_word, result + ' ' + out_word\n",
    "\n",
    "    return result"
   ]
  },
  {
   "cell_type": "raw",
   "id": "9e2e6ab5",
   "metadata": {},
   "source": [
    "The above function will accept our model,tokernizer,our input starting text and required number of words to generate.\n",
    "Then it takes input and result as our input word\n",
    "it will convert word into vector of integers\n",
    "convert it into array \n",
    "it will predict into yhat as a index or interger value of that word\n",
    "created a empty list to store the output\n",
    "and it compare the index with all indexes in the vector if it matches ,that index(word's) will store in the out_word.Then the \n",
    "loop will break\n",
    "Furthermore it will generate a sequence of predicted sentence."
   ]
  },
  {
   "cell_type": "code",
   "execution_count": 54,
   "id": "349cd176",
   "metadata": {},
   "outputs": [
    {
     "name": "stdout",
     "output_type": "stream",
     "text": [
      "1/1 [==============================] - 0s 17ms/step\n",
      "1/1 [==============================] - 0s 17ms/step\n",
      "1/1 [==============================] - 0s 28ms/step\n",
      "service based and based\n"
     ]
    }
   ],
   "source": [
    "print(generate_seq(model, tokenizer, 'service', 3))"
   ]
  }
 ],
 "metadata": {
  "kernelspec": {
   "display_name": "Python 3 (ipykernel)",
   "language": "python",
   "name": "python3"
  },
  "language_info": {
   "codemirror_mode": {
    "name": "ipython",
    "version": 3
   },
   "file_extension": ".py",
   "mimetype": "text/x-python",
   "name": "python",
   "nbconvert_exporter": "python",
   "pygments_lexer": "ipython3",
   "version": "3.10.9"
  }
 },
 "nbformat": 4,
 "nbformat_minor": 5
}
