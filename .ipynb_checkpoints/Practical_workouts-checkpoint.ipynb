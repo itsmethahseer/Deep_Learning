{
 "cells": [
  {
   "cell_type": "markdown",
   "id": "95755595",
   "metadata": {},
   "source": [
    "## Activation functions\n"
   ]
  },
  {
   "cell_type": "code",
   "execution_count": 1,
   "id": "242e878b",
   "metadata": {},
   "outputs": [],
   "source": [
    "import math"
   ]
  },
  {
   "cell_type": "code",
   "execution_count": 9,
   "id": "efd0bcc1",
   "metadata": {},
   "outputs": [],
   "source": [
    "def sigmoid(x):\n",
    "    return 1/(1+math.exp(-x))\n",
    "\n",
    "    "
   ]
  },
  {
   "cell_type": "code",
   "execution_count": 10,
   "id": "c6fd06b0",
   "metadata": {},
   "outputs": [
    {
     "data": {
      "text/plain": [
       "1.0"
      ]
     },
     "execution_count": 10,
     "metadata": {},
     "output_type": "execute_result"
    }
   ],
   "source": [
    "sigmoid(100)"
   ]
  },
  {
   "cell_type": "code",
   "execution_count": 11,
   "id": "649dda70",
   "metadata": {},
   "outputs": [
    {
     "data": {
      "text/plain": [
       "0.999997739675702"
      ]
     },
     "execution_count": 11,
     "metadata": {},
     "output_type": "execute_result"
    }
   ],
   "source": [
    "sigmoid(13)"
   ]
  },
  {
   "cell_type": "code",
   "execution_count": 12,
   "id": "f86753dd",
   "metadata": {},
   "outputs": [
    {
     "data": {
      "text/plain": [
       "0.6224593312018546"
      ]
     },
     "execution_count": 12,
     "metadata": {},
     "output_type": "execute_result"
    }
   ],
   "source": [
    "sigmoid(.5)"
   ]
  },
  {
   "cell_type": "markdown",
   "id": "8260f0fb",
   "metadata": {},
   "source": [
    "sigmoid functions will map all the inputs into value between 0 and 1"
   ]
  },
  {
   "cell_type": "code",
   "execution_count": 13,
   "id": "d5104495",
   "metadata": {},
   "outputs": [],
   "source": [
    "def tanh(x):\n",
    "    return (math.exp(x)-math.exp(-x))/(math.exp(x)+math.exp(-x))"
   ]
  },
  {
   "cell_type": "code",
   "execution_count": 14,
   "id": "9653437d",
   "metadata": {},
   "outputs": [
    {
     "data": {
      "text/plain": [
       "1.0"
      ]
     },
     "execution_count": 14,
     "metadata": {},
     "output_type": "execute_result"
    }
   ],
   "source": [
    "tanh(34)"
   ]
  },
  {
   "cell_type": "code",
   "execution_count": 15,
   "id": "fed440ec",
   "metadata": {},
   "outputs": [
    {
     "data": {
      "text/plain": [
       "0.7615941559557649"
      ]
     },
     "execution_count": 15,
     "metadata": {},
     "output_type": "execute_result"
    }
   ],
   "source": [
    "tanh(1)"
   ]
  },
  {
   "cell_type": "code",
   "execution_count": 17,
   "id": "12f7831d",
   "metadata": {},
   "outputs": [
    {
     "data": {
      "text/plain": [
       "-0.9999983369439447"
      ]
     },
     "execution_count": 17,
     "metadata": {},
     "output_type": "execute_result"
    }
   ],
   "source": [
    "tanh(-7)"
   ]
  },
  {
   "cell_type": "markdown",
   "id": "2ad47b8e",
   "metadata": {},
   "source": [
    "This tanh function will convert our input features into value between -1 and 1"
   ]
  },
  {
   "cell_type": "code",
   "execution_count": 18,
   "id": "fce738dc",
   "metadata": {},
   "outputs": [],
   "source": [
    "def relu(x):\n",
    "    return max(0,x)"
   ]
  },
  {
   "cell_type": "code",
   "execution_count": 19,
   "id": "3f33f0a9",
   "metadata": {},
   "outputs": [
    {
     "data": {
      "text/plain": [
       "0"
      ]
     },
     "execution_count": 19,
     "metadata": {},
     "output_type": "execute_result"
    }
   ],
   "source": [
    "relu(-65)"
   ]
  },
  {
   "cell_type": "code",
   "execution_count": 20,
   "id": "54ce0612",
   "metadata": {},
   "outputs": [
    {
     "data": {
      "text/plain": [
       "0"
      ]
     },
     "execution_count": 20,
     "metadata": {},
     "output_type": "execute_result"
    }
   ],
   "source": [
    "relu(-9)"
   ]
  },
  {
   "cell_type": "code",
   "execution_count": 21,
   "id": "286da39f",
   "metadata": {},
   "outputs": [
    {
     "data": {
      "text/plain": [
       "4"
      ]
     },
     "execution_count": 21,
     "metadata": {},
     "output_type": "execute_result"
    }
   ],
   "source": [
    "relu(4)"
   ]
  },
  {
   "cell_type": "markdown",
   "id": "101120e8",
   "metadata": {},
   "source": [
    "This function will convert the input is zero when the number is negative and the same value when the number is positive"
   ]
  },
  {
   "cell_type": "code",
   "execution_count": 22,
   "id": "d559b6b8",
   "metadata": {},
   "outputs": [],
   "source": [
    "def leaky_relu(x):\n",
    "    return max(0.1*x,x)"
   ]
  },
  {
   "cell_type": "code",
   "execution_count": 23,
   "id": "74c94c6b",
   "metadata": {},
   "outputs": [
    {
     "data": {
      "text/plain": [
       "-8.700000000000001"
      ]
     },
     "execution_count": 23,
     "metadata": {},
     "output_type": "execute_result"
    }
   ],
   "source": [
    "leaky_relu(-87)"
   ]
  },
  {
   "cell_type": "code",
   "execution_count": 24,
   "id": "f6fd33da",
   "metadata": {},
   "outputs": [
    {
     "data": {
      "text/plain": [
       "87"
      ]
     },
     "execution_count": 24,
     "metadata": {},
     "output_type": "execute_result"
    }
   ],
   "source": [
    "leaky_relu(87)"
   ]
  },
  {
   "cell_type": "markdown",
   "id": "fb5329cb",
   "metadata": {},
   "source": [
    "## Matrices"
   ]
  },
  {
   "cell_type": "code",
   "execution_count": 25,
   "id": "b4fc5216",
   "metadata": {},
   "outputs": [],
   "source": [
    "import numpy as np"
   ]
  },
  {
   "cell_type": "code",
   "execution_count": 27,
   "id": "8a17b0ea",
   "metadata": {},
   "outputs": [
    {
     "data": {
      "text/plain": [
       "array([[100, 110, 120],\n",
       "       [ 14,  20,  20],\n",
       "       [  4,   8,  10]])"
      ]
     },
     "execution_count": 27,
     "metadata": {},
     "output_type": "execute_result"
    }
   ],
   "source": [
    "revenue = np.array([[180,200,220],[24,36,40],[12,18,20]])\n",
    "expense = np.array([[80,90,100],[10,16,20],[8,10,10]])\n",
    "# These 2 numpy matrices represents the revenue and expences of a company and we want to calculate the profit/loss\n",
    "profit = revenue - expense\n",
    "profit"
   ]
  },
  {
   "cell_type": "code",
   "execution_count": 29,
   "id": "1c5489c5",
   "metadata": {},
   "outputs": [
    {
     "data": {
      "text/plain": [
       "array([34400, 50000, 64400])"
      ]
     },
     "execution_count": 29,
     "metadata": {},
     "output_type": "execute_result"
    }
   ],
   "source": [
    "#if we want to calculate the total amount of profit by using unit_price we want to use matrix multiplication\n",
    "price_unit = np.array([1000,400,1200])\n",
    "units = np.array([[30,40,50],[5,10,15],[2,5,7]])\n",
    "np.dot(price_unit,units)"
   ]
  },
  {
   "cell_type": "markdown",
   "id": "09fb5a4d",
   "metadata": {},
   "source": [
    "## Cost Function"
   ]
  },
  {
   "cell_type": "code",
   "execution_count": 31,
   "id": "f807d4b9",
   "metadata": {},
   "outputs": [],
   "source": [
    "import numpy as np\n",
    "y_predicted = np.array([1,1,0,0,1])\n",
    "y_true = np.array([.30,70,1,0,0.5])\n"
   ]
  },
  {
   "cell_type": "code",
   "execution_count": 38,
   "id": "d95cea37",
   "metadata": {},
   "outputs": [
    {
     "name": "stdout",
     "output_type": "stream",
     "text": [
      "total error 71.2\n"
     ]
    },
    {
     "data": {
      "text/plain": [
       "14.24"
      ]
     },
     "execution_count": 38,
     "metadata": {},
     "output_type": "execute_result"
    }
   ],
   "source": [
    "def mean_absolute_error(predicted,true):\n",
    "    total_error = 0\n",
    "    for yp,yt in zip(y_predicted,y_true):\n",
    "        total_error += abs(yp-yt)\n",
    "    print(\"total error\",total_error)\n",
    "    mae = total_error/len(y_true)\n",
    "    return mae\n",
    "mean_absolute_error(y_predicted,y_true)"
   ]
  },
  {
   "cell_type": "code",
   "execution_count": 39,
   "id": "8b0a969a",
   "metadata": {},
   "outputs": [
    {
     "data": {
      "text/plain": [
       "14.24"
      ]
     },
     "execution_count": 39,
     "metadata": {},
     "output_type": "execute_result"
    }
   ],
   "source": [
    "#we can also did this using in one line of code using numpy library\n",
    "np.mean(np.abs(y_predicted-y_true))"
   ]
  },
  {
   "cell_type": "markdown",
   "id": "3bfaa6fb",
   "metadata": {},
   "source": [
    "In logloss we want to calculate the log values of our predicted . Acutally the log(0) is undefined so we want to calculate the zeros in our predicted into close to zero and 1 with close to one.\n"
   ]
  },
  {
   "cell_type": "code",
   "execution_count": 40,
   "id": "f1c7dd1d",
   "metadata": {},
   "outputs": [
    {
     "name": "stderr",
     "output_type": "stream",
     "text": [
      "C:\\Users\\user\\AppData\\Local\\Temp\\ipykernel_19308\\262464415.py:1: RuntimeWarning: divide by zero encountered in log\n",
      "  np.log([0])\n"
     ]
    },
    {
     "data": {
      "text/plain": [
       "array([-inf])"
      ]
     },
     "execution_count": 40,
     "metadata": {},
     "output_type": "execute_result"
    }
   ],
   "source": [
    "np.log([0])"
   ]
  },
  {
   "cell_type": "code",
   "execution_count": 41,
   "id": "63ca805e",
   "metadata": {},
   "outputs": [
    {
     "data": {
      "text/plain": [
       "array([-36.84136149])"
      ]
     },
     "execution_count": 41,
     "metadata": {},
     "output_type": "execute_result"
    }
   ],
   "source": [
    "np.log([0.0000000000000001])"
   ]
  },
  {
   "cell_type": "code",
   "execution_count": 44,
   "id": "0d02929f",
   "metadata": {},
   "outputs": [],
   "source": [
    "epsilone = 1e-15\n"
   ]
  },
  {
   "cell_type": "code",
   "execution_count": 45,
   "id": "00f15a62",
   "metadata": {},
   "outputs": [
    {
     "data": {
      "text/plain": [
       "array([-34.53877639])"
      ]
     },
     "execution_count": 45,
     "metadata": {},
     "output_type": "execute_result"
    }
   ],
   "source": [
    "np.log([epsilone])"
   ]
  },
  {
   "cell_type": "code",
   "execution_count": 46,
   "id": "61d6cfb1",
   "metadata": {},
   "outputs": [
    {
     "data": {
      "text/plain": [
       "array([1, 1, 0, 0, 1])"
      ]
     },
     "execution_count": 46,
     "metadata": {},
     "output_type": "execute_result"
    }
   ],
   "source": [
    "y_predicted"
   ]
  },
  {
   "cell_type": "code",
   "execution_count": 48,
   "id": "f7f7637d",
   "metadata": {},
   "outputs": [
    {
     "data": {
      "text/plain": [
       "[1, 1, 1e-15, 1e-15, 1]"
      ]
     },
     "execution_count": 48,
     "metadata": {},
     "output_type": "execute_result"
    }
   ],
   "source": [
    "# i want to convert the value 0 into close to zero\n",
    "y_predicted_new = [max(i,epsilone) for i in y_predicted]\n",
    "y_predicted_new"
   ]
  },
  {
   "cell_type": "code",
   "execution_count": 49,
   "id": "2008b240",
   "metadata": {},
   "outputs": [
    {
     "data": {
      "text/plain": [
       "0.999999999999999"
      ]
     },
     "execution_count": 49,
     "metadata": {},
     "output_type": "execute_result"
    }
   ],
   "source": [
    "# Now i want to convert 1 into close to one\n",
    "1-epsilone"
   ]
  },
  {
   "cell_type": "code",
   "execution_count": 50,
   "id": "16de2cd5",
   "metadata": {},
   "outputs": [
    {
     "data": {
      "text/plain": [
       "[0.999999999999999, 0.999999999999999, 1e-15, 1e-15, 0.999999999999999]"
      ]
     },
     "execution_count": 50,
     "metadata": {},
     "output_type": "execute_result"
    }
   ],
   "source": [
    "y_predicted_new = [min(i,1-epsilone) for i in y_predicted_new]\n",
    "y_predicted_new"
   ]
  },
  {
   "cell_type": "code",
   "execution_count": 51,
   "id": "e83abf6a",
   "metadata": {},
   "outputs": [],
   "source": [
    "y_predicted_new = np.array(y_predicted_new)"
   ]
  },
  {
   "cell_type": "code",
   "execution_count": 52,
   "id": "51759e8b",
   "metadata": {},
   "outputs": [
    {
     "data": {
      "text/plain": [
       "array([1.e+00, 1.e+00, 1.e-15, 1.e-15, 1.e+00])"
      ]
     },
     "execution_count": 52,
     "metadata": {},
     "output_type": "execute_result"
    }
   ],
   "source": [
    "y_predicted_new"
   ]
  },
  {
   "cell_type": "code",
   "execution_count": 54,
   "id": "d70334bf",
   "metadata": {},
   "outputs": [
    {
     "data": {
      "text/plain": [
       "array([-9.99200722e-16, -9.99200722e-16, -3.45387764e+01, -3.45387764e+01,\n",
       "       -9.99200722e-16])"
      ]
     },
     "execution_count": 54,
     "metadata": {},
     "output_type": "execute_result"
    }
   ],
   "source": [
    "np.log(y_predicted_new)"
   ]
  },
  {
   "cell_type": "code",
   "execution_count": 57,
   "id": "81855b63",
   "metadata": {},
   "outputs": [
    {
     "data": {
      "text/plain": [
       "-461.4488951771602"
      ]
     },
     "execution_count": 57,
     "metadata": {},
     "output_type": "execute_result"
    }
   ],
   "source": [
    "-np.mean(y_true*np.log(y_predicted_new)+(1-y_true)*np.log(1-y_predicted_new))"
   ]
  },
  {
   "cell_type": "code",
   "execution_count": 58,
   "id": "75f1ec1e",
   "metadata": {},
   "outputs": [],
   "source": [
    "def log_loss(y_true, y_predicted):\n",
    "    y_predicted_new = [max(i,epsilone) for i in y_predicted]\n",
    "    y_predicted_new = [min(i,1-epsilone) for i in y_predicted_new]\n",
    "    y_predicted_new = np.array(y_predicted_new)\n",
    "    return -np.mean(y_true*np.log(y_predicted_new)+(1-y_true)*np.log(1-y_predicted_new))"
   ]
  },
  {
   "cell_type": "code",
   "execution_count": 59,
   "id": "0491feea",
   "metadata": {},
   "outputs": [
    {
     "data": {
      "text/plain": [
       "-461.4488951771602"
      ]
     },
     "execution_count": 59,
     "metadata": {},
     "output_type": "execute_result"
    }
   ],
   "source": [
    "log_loss(y_true, y_predicted)"
   ]
  }
 ],
 "metadata": {
  "kernelspec": {
   "display_name": "Python 3 (ipykernel)",
   "language": "python",
   "name": "python3"
  },
  "language_info": {
   "codemirror_mode": {
    "name": "ipython",
    "version": 3
   },
   "file_extension": ".py",
   "mimetype": "text/x-python",
   "name": "python",
   "nbconvert_exporter": "python",
   "pygments_lexer": "ipython3",
   "version": "3.10.9"
  }
 },
 "nbformat": 4,
 "nbformat_minor": 5
}
