{
 "cells": [
  {
   "cell_type": "markdown",
   "id": "4a9c9ef7",
   "metadata": {},
   "source": [
    "### Image classification based on CNN"
   ]
  },
  {
   "cell_type": "code",
   "execution_count": 1,
   "id": "c8e80582",
   "metadata": {},
   "outputs": [],
   "source": [
    "import tensorflow as tf\n",
    "from tensorflow.keras import datasets,layers,models\n",
    "import matplotlib.pyplot as plt\n",
    "import numpy as np"
   ]
  },
  {
   "cell_type": "code",
   "execution_count": 2,
   "id": "28084276",
   "metadata": {},
   "outputs": [],
   "source": [
    "(x_train,y_train),(x_test,y_test)=datasets.cifar10.load_data()"
   ]
  },
  {
   "cell_type": "markdown",
   "id": "a1bb14a0",
   "metadata": {},
   "source": [
    "The CIFAR-10 dataset consists of 60000 32x32 colour images in 10 classes, with 6000 images per class. There are 50000 training images and 10000 test images."
   ]
  },
  {
   "cell_type": "code",
   "execution_count": 3,
   "id": "c68fbaa4",
   "metadata": {},
   "outputs": [
    {
     "data": {
      "text/plain": [
       "(50000, 32, 32, 3)"
      ]
     },
     "execution_count": 3,
     "metadata": {},
     "output_type": "execute_result"
    }
   ],
   "source": [
    "x_train.shape"
   ]
  },
  {
   "cell_type": "code",
   "execution_count": 4,
   "id": "77149701",
   "metadata": {},
   "outputs": [
    {
     "data": {
      "text/plain": [
       "(10000, 32, 32, 3)"
      ]
     },
     "execution_count": 4,
     "metadata": {},
     "output_type": "execute_result"
    }
   ],
   "source": [
    "x_test.shape"
   ]
  },
  {
   "cell_type": "markdown",
   "id": "093b13a4",
   "metadata": {},
   "source": [
    "here the dataset shape is says about,total 60000 samples of 32x32 images and 3 for rgb channels"
   ]
  },
  {
   "cell_type": "code",
   "execution_count": 5,
   "id": "a2b91954",
   "metadata": {
    "scrolled": true
   },
   "outputs": [
    {
     "data": {
      "text/plain": [
       "array([[[ 59,  62,  63],\n",
       "        [ 43,  46,  45],\n",
       "        [ 50,  48,  43],\n",
       "        ...,\n",
       "        [158, 132, 108],\n",
       "        [152, 125, 102],\n",
       "        [148, 124, 103]],\n",
       "\n",
       "       [[ 16,  20,  20],\n",
       "        [  0,   0,   0],\n",
       "        [ 18,   8,   0],\n",
       "        ...,\n",
       "        [123,  88,  55],\n",
       "        [119,  83,  50],\n",
       "        [122,  87,  57]],\n",
       "\n",
       "       [[ 25,  24,  21],\n",
       "        [ 16,   7,   0],\n",
       "        [ 49,  27,   8],\n",
       "        ...,\n",
       "        [118,  84,  50],\n",
       "        [120,  84,  50],\n",
       "        [109,  73,  42]],\n",
       "\n",
       "       ...,\n",
       "\n",
       "       [[208, 170,  96],\n",
       "        [201, 153,  34],\n",
       "        [198, 161,  26],\n",
       "        ...,\n",
       "        [160, 133,  70],\n",
       "        [ 56,  31,   7],\n",
       "        [ 53,  34,  20]],\n",
       "\n",
       "       [[180, 139,  96],\n",
       "        [173, 123,  42],\n",
       "        [186, 144,  30],\n",
       "        ...,\n",
       "        [184, 148,  94],\n",
       "        [ 97,  62,  34],\n",
       "        [ 83,  53,  34]],\n",
       "\n",
       "       [[177, 144, 116],\n",
       "        [168, 129,  94],\n",
       "        [179, 142,  87],\n",
       "        ...,\n",
       "        [216, 184, 140],\n",
       "        [151, 118,  84],\n",
       "        [123,  92,  72]]], dtype=uint8)"
      ]
     },
     "execution_count": 5,
     "metadata": {},
     "output_type": "execute_result"
    }
   ],
   "source": [
    "x_train[0]"
   ]
  },
  {
   "cell_type": "code",
   "execution_count": 6,
   "id": "786c9f63",
   "metadata": {},
   "outputs": [
    {
     "data": {
      "text/plain": [
       "<matplotlib.image.AxesImage at 0x239d0de14b0>"
      ]
     },
     "execution_count": 6,
     "metadata": {},
     "output_type": "execute_result"
    },
    {
     "data": {
      "image/png": "[encoded data removed]",
      "text/plain": [
       "<Figure size 1500x200 with 1 Axes>"
      ]
     },
     "metadata": {},
     "output_type": "display_data"
    }
   ],
   "source": [
    "plt.figure(figsize=(15,2))\n",
    "plt.imshow(x_train[0])"
   ]
  },
  {
   "cell_type": "code",
   "execution_count": 7,
   "id": "ca78a589",
   "metadata": {},
   "outputs": [
    {
     "data": {
      "text/plain": [
       "<matplotlib.image.AxesImage at 0x239d3436f50>"
      ]
     },
     "execution_count": 7,
     "metadata": {},
     "output_type": "execute_result"
    },
    {
     "data": {
      "image/png": "[encoded data removed]",
      "text/plain": [
       "<Figure size 1500x200 with 1 Axes>"
      ]
     },
     "metadata": {},
     "output_type": "display_data"
    }
   ],
   "source": [
    "plt.figure(figsize=(15,2))\n",
    "plt.imshow(x_train[1])"
   ]
  },
  {
   "cell_type": "code",
   "execution_count": 8,
   "id": "13fb1fef",
   "metadata": {},
   "outputs": [
    {
     "data": {
      "text/plain": [
       "array([[6],\n",
       "       [9],\n",
       "       [9],\n",
       "       [4],\n",
       "       [1]], dtype=uint8)"
      ]
     },
     "execution_count": 8,
     "metadata": {},
     "output_type": "execute_result"
    }
   ],
   "source": [
    "y_train[:5]"
   ]
  },
  {
   "cell_type": "markdown",
   "id": "c25a0249",
   "metadata": {},
   "source": [
    "the target value is a 2D array , but we want 1D array.so we want to use numpy for reshape.\n"
   ]
  },
  {
   "cell_type": "code",
   "execution_count": 9,
   "id": "cab71f87",
   "metadata": {},
   "outputs": [],
   "source": [
    "y_train = y_train.reshape(-1,)"
   ]
  },
  {
   "cell_type": "code",
   "execution_count": 10,
   "id": "26bfec8e",
   "metadata": {},
   "outputs": [
    {
     "data": {
      "text/plain": [
       "array([6, 9, 9, 4, 1], dtype=uint8)"
      ]
     },
     "execution_count": 10,
     "metadata": {},
     "output_type": "execute_result"
    }
   ],
   "source": [
    "y_train[:5]"
   ]
  },
  {
   "cell_type": "code",
   "execution_count": null,
   "id": "6d5fe82f",
   "metadata": {},
   "outputs": [],
   "source": []
  },
  {
   "cell_type": "markdown",
   "id": "379b8ff0",
   "metadata": {},
   "source": [
    "Now iam going to print the images using a function.\n"
   ]
  },
  {
   "cell_type": "code",
   "execution_count": 11,
   "id": "ea65e762",
   "metadata": {},
   "outputs": [],
   "source": [
    "classes = [\"airplane\",\"automobile\",\"bird\",\"cat\",\"deer\",\"dog\",\"frog\",\"horse\",\"ship\",\"truck\"]"
   ]
  },
  {
   "cell_type": "code",
   "execution_count": 12,
   "id": "7fa65fa5",
   "metadata": {},
   "outputs": [],
   "source": [
    "def plot_sample(X,y,index):\n",
    "    plt.figure(figsize=(15,2))\n",
    "    plt.imshow(X[index])\n",
    "    plt.xlabel(classes[y[index]])"
   ]
  },
  {
   "cell_type": "code",
   "execution_count": 13,
   "id": "9196900d",
   "metadata": {},
   "outputs": [
    {
     "data": {
      "image/png": "[encoded data removed]",
      "text/plain": [
       "<Figure size 1500x200 with 1 Axes>"
      ]
     },
     "metadata": {},
     "output_type": "display_data"
    }
   ],
   "source": [
    "plot_sample(x_train,y_train,5)"
   ]
  },
  {
   "cell_type": "markdown",
   "id": "7d205c59",
   "metadata": {},
   "source": [
    "##### Now iam going to Normalizae my data"
   ]
  },
  {
   "cell_type": "code",
   "execution_count": 14,
   "id": "a55ca01b",
   "metadata": {},
   "outputs": [],
   "source": [
    "x_train = x_train/255\n",
    "x_test = x_test/255"
   ]
  },
  {
   "cell_type": "code",
   "execution_count": 15,
   "id": "dab1867d",
   "metadata": {
    "scrolled": true
   },
   "outputs": [
    {
     "data": {
      "text/plain": [
       "array([[[0.23137255, 0.24313725, 0.24705882],\n",
       "        [0.16862745, 0.18039216, 0.17647059],\n",
       "        [0.19607843, 0.18823529, 0.16862745],\n",
       "        ...,\n",
       "        [0.61960784, 0.51764706, 0.42352941],\n",
       "        [0.59607843, 0.49019608, 0.4       ],\n",
       "        [0.58039216, 0.48627451, 0.40392157]],\n",
       "\n",
       "       [[0.0627451 , 0.07843137, 0.07843137],\n",
       "        [0.        , 0.        , 0.        ],\n",
       "        [0.07058824, 0.03137255, 0.        ],\n",
       "        ...,\n",
       "        [0.48235294, 0.34509804, 0.21568627],\n",
       "        [0.46666667, 0.3254902 , 0.19607843],\n",
       "        [0.47843137, 0.34117647, 0.22352941]],\n",
       "\n",
       "       [[0.09803922, 0.09411765, 0.08235294],\n",
       "        [0.0627451 , 0.02745098, 0.        ],\n",
       "        [0.19215686, 0.10588235, 0.03137255],\n",
       "        ...,\n",
       "        [0.4627451 , 0.32941176, 0.19607843],\n",
       "        [0.47058824, 0.32941176, 0.19607843],\n",
       "        [0.42745098, 0.28627451, 0.16470588]],\n",
       "\n",
       "       ...,\n",
       "\n",
       "       [[0.81568627, 0.66666667, 0.37647059],\n",
       "        [0.78823529, 0.6       , 0.13333333],\n",
       "        [0.77647059, 0.63137255, 0.10196078],\n",
       "        ...,\n",
       "        [0.62745098, 0.52156863, 0.2745098 ],\n",
       "        [0.21960784, 0.12156863, 0.02745098],\n",
       "        [0.20784314, 0.13333333, 0.07843137]],\n",
       "\n",
       "       [[0.70588235, 0.54509804, 0.37647059],\n",
       "        [0.67843137, 0.48235294, 0.16470588],\n",
       "        [0.72941176, 0.56470588, 0.11764706],\n",
       "        ...,\n",
       "        [0.72156863, 0.58039216, 0.36862745],\n",
       "        [0.38039216, 0.24313725, 0.13333333],\n",
       "        [0.3254902 , 0.20784314, 0.13333333]],\n",
       "\n",
       "       [[0.69411765, 0.56470588, 0.45490196],\n",
       "        [0.65882353, 0.50588235, 0.36862745],\n",
       "        [0.70196078, 0.55686275, 0.34117647],\n",
       "        ...,\n",
       "        [0.84705882, 0.72156863, 0.54901961],\n",
       "        [0.59215686, 0.4627451 , 0.32941176],\n",
       "        [0.48235294, 0.36078431, 0.28235294]]])"
      ]
     },
     "execution_count": 15,
     "metadata": {},
     "output_type": "execute_result"
    }
   ],
   "source": [
    "x_train[0]"
   ]
  },
  {
   "cell_type": "code",
   "execution_count": 16,
   "id": "2950538d",
   "metadata": {
    "scrolled": true
   },
   "outputs": [
    {
     "data": {
      "text/plain": [
       "array([[[0.61960784, 0.43921569, 0.19215686],\n",
       "        [0.62352941, 0.43529412, 0.18431373],\n",
       "        [0.64705882, 0.45490196, 0.2       ],\n",
       "        ...,\n",
       "        [0.5372549 , 0.37254902, 0.14117647],\n",
       "        [0.49411765, 0.35686275, 0.14117647],\n",
       "        [0.45490196, 0.33333333, 0.12941176]],\n",
       "\n",
       "       [[0.59607843, 0.43921569, 0.2       ],\n",
       "        [0.59215686, 0.43137255, 0.15686275],\n",
       "        [0.62352941, 0.44705882, 0.17647059],\n",
       "        ...,\n",
       "        [0.53333333, 0.37254902, 0.12156863],\n",
       "        [0.49019608, 0.35686275, 0.1254902 ],\n",
       "        [0.46666667, 0.34509804, 0.13333333]],\n",
       "\n",
       "       [[0.59215686, 0.43137255, 0.18431373],\n",
       "        [0.59215686, 0.42745098, 0.12941176],\n",
       "        [0.61960784, 0.43529412, 0.14117647],\n",
       "        ...,\n",
       "        [0.54509804, 0.38431373, 0.13333333],\n",
       "        [0.50980392, 0.37254902, 0.13333333],\n",
       "        [0.47058824, 0.34901961, 0.12941176]],\n",
       "\n",
       "       ...,\n",
       "\n",
       "       [[0.26666667, 0.48627451, 0.69411765],\n",
       "        [0.16470588, 0.39215686, 0.58039216],\n",
       "        [0.12156863, 0.34509804, 0.5372549 ],\n",
       "        ...,\n",
       "        [0.14901961, 0.38039216, 0.57254902],\n",
       "        [0.05098039, 0.25098039, 0.42352941],\n",
       "        [0.15686275, 0.33333333, 0.49803922]],\n",
       "\n",
       "       [[0.23921569, 0.45490196, 0.65882353],\n",
       "        [0.19215686, 0.4       , 0.58039216],\n",
       "        [0.1372549 , 0.33333333, 0.51764706],\n",
       "        ...,\n",
       "        [0.10196078, 0.32156863, 0.50980392],\n",
       "        [0.11372549, 0.32156863, 0.49411765],\n",
       "        [0.07843137, 0.25098039, 0.41960784]],\n",
       "\n",
       "       [[0.21176471, 0.41960784, 0.62745098],\n",
       "        [0.21960784, 0.41176471, 0.58431373],\n",
       "        [0.17647059, 0.34901961, 0.51764706],\n",
       "        ...,\n",
       "        [0.09411765, 0.30196078, 0.48627451],\n",
       "        [0.13333333, 0.32941176, 0.50588235],\n",
       "        [0.08235294, 0.2627451 , 0.43137255]]])"
      ]
     },
     "execution_count": 16,
     "metadata": {},
     "output_type": "execute_result"
    }
   ],
   "source": [
    "x_test[0]"
   ]
  },
  {
   "cell_type": "markdown",
   "id": "b08a762b",
   "metadata": {},
   "source": [
    "#### first i am going to do it with ANN"
   ]
  },
  {
   "cell_type": "code",
   "execution_count": 17,
   "id": "2f2f92ad",
   "metadata": {
    "scrolled": true
   },
   "outputs": [
    {
     "name": "stdout",
     "output_type": "stream",
     "text": [
      "Epoch 1/5\n",
      "1563/1563 [==============================] - 74s 47ms/step - loss: 1.8124 - accuracy: 0.3543\n",
      "Epoch 2/5\n",
      "1563/1563 [==============================] - 74s 47ms/step - loss: 1.6233 - accuracy: 0.4267\n",
      "Epoch 3/5\n",
      "1563/1563 [==============================] - 74s 47ms/step - loss: 1.5409 - accuracy: 0.4576\n",
      "Epoch 4/5\n",
      "1563/1563 [==============================] - 74s 47ms/step - loss: 1.4800 - accuracy: 0.4775\n",
      "Epoch 5/5\n",
      "1563/1563 [==============================] - 74s 47ms/step - loss: 1.4311 - accuracy: 0.4984\n"
     ]
    },
    {
     "data": {
      "text/plain": [
       "<keras.callbacks.History at 0x239d34a3fa0>"
      ]
     },
     "execution_count": 17,
     "metadata": {},
     "output_type": "execute_result"
    }
   ],
   "source": [
    "ann = models.Sequential([\n",
    "        layers.Flatten(input_shape=(32,32,3)),\n",
    "        layers.Dense(3000, activation='relu'),\n",
    "        layers.Dense(1000, activation='relu'),\n",
    "        layers.Dense(10, activation='softmax')    \n",
    "    ])\n",
    "\n",
    "ann.compile(optimizer='SGD',\n",
    "              loss='sparse_categorical_crossentropy',\n",
    "              metrics=['accuracy'])\n",
    "\n",
    "ann.fit(x_train, y_train, epochs=5)"
   ]
  },
  {
   "cell_type": "code",
   "execution_count": 18,
   "id": "a074c33a",
   "metadata": {},
   "outputs": [
    {
     "name": "stdout",
     "output_type": "stream",
     "text": [
      "313/313 [==============================] - 4s 13ms/step - loss: 1.4766 - accuracy: 0.4789\n"
     ]
    },
    {
     "data": {
      "text/plain": [
       "[1.4766032695770264, 0.4788999855518341]"
      ]
     },
     "execution_count": 18,
     "metadata": {},
     "output_type": "execute_result"
    }
   ],
   "source": [
    "ann.evaluate(x_test,y_test)"
   ]
  },
  {
   "cell_type": "code",
   "execution_count": 19,
   "id": "e36c28c2",
   "metadata": {},
   "outputs": [
    {
     "name": "stdout",
     "output_type": "stream",
     "text": [
      "313/313 [==============================] - 4s 13ms/step\n",
      "Classification Report: \n",
      "               precision    recall  f1-score   support\n",
      "\n",
      "           0       0.54      0.50      0.52      1000\n",
      "           1       0.50      0.72      0.59      1000\n",
      "           2       0.43      0.33      0.37      1000\n",
      "           3       0.36      0.39      0.37      1000\n",
      "           4       0.46      0.40      0.42      1000\n",
      "           5       0.57      0.15      0.24      1000\n",
      "           6       0.58      0.43      0.50      1000\n",
      "           7       0.46      0.64      0.54      1000\n",
      "           8       0.47      0.76      0.58      1000\n",
      "           9       0.52      0.48      0.50      1000\n",
      "\n",
      "    accuracy                           0.48     10000\n",
      "   macro avg       0.49      0.48      0.46     10000\n",
      "weighted avg       0.49      0.48      0.46     10000\n",
      "\n"
     ]
    }
   ],
   "source": [
    "from sklearn.metrics import confusion_matrix , classification_report\n",
    "import numpy as np\n",
    "y_pred = ann.predict(x_test)\n",
    "y_pred_classes = [np.argmax(element) for element in y_pred]\n",
    "\n",
    "print(\"Classification Report: \\n\", classification_report(y_test, y_pred_classes))"
   ]
  },
  {
   "cell_type": "markdown",
   "id": "4578eb6d",
   "metadata": {},
   "source": [
    "but this ANN gives bad performance .Now we can see the performance of CNN model"
   ]
  },
  {
   "cell_type": "code",
   "execution_count": 21,
   "id": "cfc047ba",
   "metadata": {},
   "outputs": [],
   "source": [
    "cnn = models.Sequential([\n",
    "        #convolutional\n",
    "        layers.Conv2D(filters=32,kernel_size=(3,3),activation='relu',input_shape=(32,32,3)),\n",
    "        layers.MaxPooling2D((2,2)),\n",
    "        layers.Conv2D(filters=32,kernel_size=(3,3),activation='relu',input_shape=(32,32,3)),\n",
    "        layers.MaxPooling2D((2,2)),\n",
    "        #dense\n",
    "        layers.Flatten(),\n",
    "        layers.Dense(64, activation='relu'),\n",
    "        layers.Dense(10, activation='softmax')    \n",
    "    ])\n"
   ]
  },
  {
   "cell_type": "markdown",
   "id": "d3f8a36e",
   "metadata": {},
   "source": [
    "##### for convolutional neural network , we don't want to write the filters, it will apply the best filters for us.we only want to write the size and number of filters we want."
   ]
  },
  {
   "cell_type": "code",
   "execution_count": 24,
   "id": "1315a927",
   "metadata": {},
   "outputs": [],
   "source": [
    "cnn.compile(optimizer='adam',\n",
    "              loss='sparse_categorical_crossentropy',\n",
    "              metrics=['accuracy'])"
   ]
  },
  {
   "cell_type": "code",
   "execution_count": 25,
   "id": "920e6729",
   "metadata": {},
   "outputs": [
    {
     "name": "stdout",
     "output_type": "stream",
     "text": [
      "Epoch 1/10\n",
      "1563/1563 [==============================] - 29s 18ms/step - loss: 1.5045 - accuracy: 0.4590\n",
      "Epoch 2/10\n",
      "1563/1563 [==============================] - 26s 17ms/step - loss: 1.1703 - accuracy: 0.5881\n",
      "Epoch 3/10\n",
      "1563/1563 [==============================] - 26s 17ms/step - loss: 1.0457 - accuracy: 0.6322\n",
      "Epoch 4/10\n",
      "1563/1563 [==============================] - 26s 17ms/step - loss: 0.9680 - accuracy: 0.6622\n",
      "Epoch 5/10\n",
      "1563/1563 [==============================] - 26s 17ms/step - loss: 0.9052 - accuracy: 0.6832\n",
      "Epoch 6/10\n",
      "1563/1563 [==============================] - 27s 17ms/step - loss: 0.8595 - accuracy: 0.6987\n",
      "Epoch 7/10\n",
      "1563/1563 [==============================] - 26s 17ms/step - loss: 0.8177 - accuracy: 0.7134\n",
      "Epoch 8/10\n",
      "1563/1563 [==============================] - 26s 17ms/step - loss: 0.7850 - accuracy: 0.7273\n",
      "Epoch 9/10\n",
      "1563/1563 [==============================] - 26s 17ms/step - loss: 0.7476 - accuracy: 0.7385\n",
      "Epoch 10/10\n",
      "1563/1563 [==============================] - 26s 16ms/step - loss: 0.7225 - accuracy: 0.7454\n"
     ]
    },
    {
     "data": {
      "text/plain": [
       "<keras.callbacks.History at 0x23a35d96350>"
      ]
     },
     "execution_count": 25,
     "metadata": {},
     "output_type": "execute_result"
    }
   ],
   "source": [
    "cnn.fit(x_train,y_train,epochs=10)"
   ]
  },
  {
   "cell_type": "code",
   "execution_count": 26,
   "id": "1c611690",
   "metadata": {},
   "outputs": [
    {
     "name": "stdout",
     "output_type": "stream",
     "text": [
      "313/313 [==============================] - 2s 7ms/step - loss: 0.9904 - accuracy: 0.6684\n"
     ]
    },
    {
     "data": {
      "text/plain": [
       "[0.9904349446296692, 0.66839998960495]"
      ]
     },
     "execution_count": 26,
     "metadata": {},
     "output_type": "execute_result"
    }
   ],
   "source": [
    "cnn.evaluate(x_test,y_test)"
   ]
  },
  {
   "cell_type": "markdown",
   "id": "c9eeabc2",
   "metadata": {},
   "source": [
    "Now we can see the accuracy , it's not pretty good but not bad also.since our dataset is highly complicated."
   ]
  },
  {
   "cell_type": "markdown",
   "id": "e0c94a96",
   "metadata": {},
   "source": [
    "Now i'm going to plot my test data"
   ]
  },
  {
   "cell_type": "code",
   "execution_count": 27,
   "id": "1b92bb08",
   "metadata": {},
   "outputs": [],
   "source": [
    "y_test = y_test.reshape(-1,)"
   ]
  },
  {
   "cell_type": "code",
   "execution_count": 28,
   "id": "370de429",
   "metadata": {},
   "outputs": [
    {
     "data": {
      "text/plain": [
       "array([3, 8, 8, 0, 6], dtype=uint8)"
      ]
     },
     "execution_count": 28,
     "metadata": {},
     "output_type": "execute_result"
    }
   ],
   "source": [
    "y_test[:5]"
   ]
  },
  {
   "cell_type": "code",
   "execution_count": 29,
   "id": "5dc1bed3",
   "metadata": {},
   "outputs": [
    {
     "data": {
      "image/png": "[encoded data removed]",
      "text/plain": [
       "<Figure size 1500x200 with 1 Axes>"
      ]
     },
     "metadata": {},
     "output_type": "display_data"
    }
   ],
   "source": [
    "plot_sample(x_test,y_test,1)"
   ]
  },
  {
   "cell_type": "code",
   "execution_count": 30,
   "id": "d050a5cd",
   "metadata": {},
   "outputs": [
    {
     "name": "stdout",
     "output_type": "stream",
     "text": [
      "313/313 [==============================] - 2s 6ms/step\n"
     ]
    }
   ],
   "source": [
    "y_predicted = cnn.predict(x_test)"
   ]
  },
  {
   "cell_type": "code",
   "execution_count": 31,
   "id": "1c52af8e",
   "metadata": {
    "scrolled": true
   },
   "outputs": [
    {
     "data": {
      "text/plain": [
       "array([[1.52451480e-02, 7.83188298e-05, 4.26931493e-03, 7.59951234e-01,\n",
       "        1.82547164e-03, 1.87221274e-01, 2.51840837e-02, 8.69724245e-05,\n",
       "        5.67876454e-03, 4.59445699e-04],\n",
       "       [8.64391157e-04, 8.09097663e-03, 2.18070625e-07, 9.54451025e-07,\n",
       "        9.12016862e-09, 1.97892391e-09, 3.87237076e-10, 4.41600179e-08,\n",
       "        9.88762319e-01, 2.28116033e-03],\n",
       "       [1.43814668e-01, 1.04193062e-01, 6.91528840e-04, 9.73311067e-03,\n",
       "        9.41799954e-05, 2.88211653e-04, 2.38123524e-04, 4.61324933e-04,\n",
       "        6.50469780e-01, 9.00159776e-02],\n",
       "       [9.07175004e-01, 4.01177118e-03, 7.41103385e-03, 2.15989639e-04,\n",
       "        1.19918119e-02, 7.11309331e-05, 3.95393508e-05, 4.37160088e-05,\n",
       "        5.41135743e-02, 1.49264205e-02],\n",
       "       [1.25981624e-05, 8.52249832e-06, 5.20477146e-02, 2.95270473e-01,\n",
       "        4.63540792e-01, 3.47683616e-02, 1.54236302e-01, 7.53886270e-05,\n",
       "        2.96640610e-05, 1.01567248e-05]], dtype=float32)"
      ]
     },
     "execution_count": 31,
     "metadata": {},
     "output_type": "execute_result"
    }
   ],
   "source": [
    "y_predicted[:5]"
   ]
  },
  {
   "cell_type": "markdown",
   "id": "310c3969",
   "metadata": {},
   "source": [
    "Now i am going to calculate the argmax value of the prediction to get the correct predicted output"
   ]
  },
  {
   "cell_type": "code",
   "execution_count": 32,
   "id": "06354e7e",
   "metadata": {},
   "outputs": [],
   "source": [
    "y_classess = [np.argmax(element) for element in y_predicted]"
   ]
  },
  {
   "cell_type": "code",
   "execution_count": 33,
   "id": "6cb9cd7b",
   "metadata": {},
   "outputs": [
    {
     "data": {
      "text/plain": [
       "[3, 8, 8, 0, 4]"
      ]
     },
     "execution_count": 33,
     "metadata": {},
     "output_type": "execute_result"
    }
   ],
   "source": [
    "y_classess[:5]"
   ]
  },
  {
   "cell_type": "code",
   "execution_count": 34,
   "id": "90ced406",
   "metadata": {},
   "outputs": [
    {
     "data": {
      "text/plain": [
       "['airplane',\n",
       " 'automobile',\n",
       " 'bird',\n",
       " 'cat',\n",
       " 'deer',\n",
       " 'dog',\n",
       " 'frog',\n",
       " 'horse',\n",
       " 'ship',\n",
       " 'truck']"
      ]
     },
     "execution_count": 34,
     "metadata": {},
     "output_type": "execute_result"
    }
   ],
   "source": [
    "classes"
   ]
  },
  {
   "cell_type": "code",
   "execution_count": 37,
   "id": "561af4ae",
   "metadata": {},
   "outputs": [
    {
     "data": {
      "image/png": "[encoded data removed]",
      "text/plain": [
       "<Figure size 1500x200 with 1 Axes>"
      ]
     },
     "metadata": {},
     "output_type": "display_data"
    }
   ],
   "source": [
    "plot_sample(x_test,y_test,1)"
   ]
  },
  {
   "cell_type": "code",
   "execution_count": 36,
   "id": "122c61fe",
   "metadata": {},
   "outputs": [
    {
     "data": {
      "text/plain": [
       "'ship'"
      ]
     },
     "execution_count": 36,
     "metadata": {},
     "output_type": "execute_result"
    }
   ],
   "source": [
    "classes[y_classess[1]]"
   ]
  },
  {
   "cell_type": "code",
   "execution_count": null,
   "id": "9d3d585a",
   "metadata": {},
   "outputs": [],
   "source": []
  }
 ],
 "metadata": {
  "kernelspec": {
   "display_name": "Python 3 (ipykernel)",
   "language": "python",
   "name": "python3"
  },
  "language_info": {
   "codemirror_mode": {
    "name": "ipython",
    "version": 3
   },
   "file_extension": ".py",
   "mimetype": "text/x-python",
   "name": "python",
   "nbconvert_exporter": "python",
   "pygments_lexer": "ipython3",
   "version": "3.10.9"
  }
 },
 "nbformat": 4,
 "nbformat_minor": 5
}
